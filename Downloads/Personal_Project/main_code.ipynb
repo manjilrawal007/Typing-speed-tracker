{
 "cells": [
  {
   "cell_type": "code",
   "execution_count": 2,
   "metadata": {},
   "outputs": [
    {
     "ename": "KeyboardInterrupt",
     "evalue": "",
     "output_type": "error",
     "traceback": [
      "\u001b[0;31m---------------------------------------------------------------------------\u001b[0m",
      "\u001b[0;31mKeyboardInterrupt\u001b[0m                         Traceback (most recent call last)",
      "Cell \u001b[0;32mIn[2], line 71\u001b[0m\n\u001b[1;32m     68\u001b[0m         \u001b[39mself\u001b[39m\u001b[39m.\u001b[39minput_entry\u001b[39m.\u001b[39mdelete(\u001b[39m0\u001b[39m, tk\u001b[39m.\u001b[39mEND)\n\u001b[1;32m     69\u001b[0m         \u001b[39mself\u001b[39m\u001b[39m.\u001b[39minput_entry\u001b[39m.\u001b[39mconfig(fg\u001b[39m=\u001b[39m\u001b[39m\"\u001b[39m\u001b[39mblack\u001b[39m\u001b[39m\"\u001b[39m)  \u001b[39m# Reset text color\u001b[39;00m\n\u001b[0;32m---> 71\u001b[0m TypeSpeed()\n",
      "Cell \u001b[0;32mIn[2], line 32\u001b[0m, in \u001b[0;36mTypeSpeed.__init__\u001b[0;34m(self)\u001b[0m\n\u001b[1;32m     30\u001b[0m \u001b[39mself\u001b[39m\u001b[39m.\u001b[39mcounter \u001b[39m=\u001b[39m \u001b[39m0\u001b[39m\n\u001b[1;32m     31\u001b[0m \u001b[39mself\u001b[39m\u001b[39m.\u001b[39mrunning \u001b[39m=\u001b[39m \u001b[39mFalse\u001b[39;00m\n\u001b[0;32m---> 32\u001b[0m \u001b[39mself\u001b[39;49m\u001b[39m.\u001b[39;49mroot\u001b[39m.\u001b[39;49mmainloop()\n",
      "File \u001b[0;32m/Library/Developer/CommandLineTools/Library/Frameworks/Python3.framework/Versions/3.9/lib/python3.9/tkinter/__init__.py:1429\u001b[0m, in \u001b[0;36mMisc.mainloop\u001b[0;34m(self, n)\u001b[0m\n\u001b[1;32m   1427\u001b[0m \u001b[39mdef\u001b[39;00m \u001b[39mmainloop\u001b[39m(\u001b[39mself\u001b[39m, n\u001b[39m=\u001b[39m\u001b[39m0\u001b[39m):\n\u001b[1;32m   1428\u001b[0m \u001b[39m    \u001b[39m\u001b[39m\"\"\"Call the mainloop of Tk.\"\"\"\u001b[39;00m\n\u001b[0;32m-> 1429\u001b[0m     \u001b[39mself\u001b[39;49m\u001b[39m.\u001b[39;49mtk\u001b[39m.\u001b[39;49mmainloop(n)\n",
      "\u001b[0;31mKeyboardInterrupt\u001b[0m: "
     ]
    },
    {
     "ename": "",
     "evalue": "",
     "output_type": "error",
     "traceback": [
      "\u001b[1;31mThe Kernel crashed while executing code in the the current cell or a previous cell. Please review the code in the cell(s) to identify a possible cause of the failure. Click <a href='https://aka.ms/vscodeJupyterKernelCrash'>here</a> for more info. View Jupyter <a href='command:jupyter.viewOutput'>log</a> for further details."
     ]
    }
   ],
   "source": [
    "import tkinter as tk\n",
    "from time import sleep\n",
    "from threading import Thread\n",
    "from random import choice\n",
    "\n",
    "class TypeSpeed:\n",
    "    def __init__(self):\n",
    "        self.root = tk.Tk()\n",
    "        self.root.title(\"Typing Speed\")\n",
    "        self.root.geometry(\"850x400\")  # Adjusted window height\n",
    "        self.texts = open(\"texts.txt\", 'r').read().split(\"\\n\")\n",
    "\n",
    "        self.frame = tk.Frame(self.root)\n",
    "        self.sample_label = tk.Label(self.frame, font=(\"Helvetica\", 18), text=choice(self.texts))\n",
    "        self.sample_label.grid(row=0, column=0, columnspan=2, padx=2, pady=5)\n",
    "\n",
    "        self.input_entry = tk.Entry(self.frame, width=40, font=(\"Helvetica\", 24))\n",
    "        self.input_entry.grid(row=1, column=0, columnspan=2, padx=5, pady=10)\n",
    "        self.input_entry.bind(\"<Key>\", self.start)  # Changed event to \"<Key>\"\n",
    "\n",
    "        self.speed_label = tk.Label(self.frame, font=(\"Helvetica\", 18),\n",
    "                                    text=\"Speed: \\n0.00 CPS\\n0.00 CPM\\n0.00 WPS\\n0.00 WPM\")\n",
    "        self.speed_label.grid(row=2, column=0, columnspan=2, padx=2, pady=5)\n",
    "\n",
    "        self.reset_btn = tk.Button(self.frame, fg=\"green\", bg=\"yellow\", text=\"Reset\", font=(\"Helvetica\", 18),\n",
    "                                   command=self.reset)\n",
    "        self.reset_btn.grid(row=3, column=0, columnspan=2, padx=5, pady=10)\n",
    "\n",
    "        self.frame.pack(expand=True)\n",
    "        self.counter = 0\n",
    "        self.running = False\n",
    "        self.root.mainloop()\n",
    "\n",
    "    def start(self, event):\n",
    "        if not self.running:\n",
    "            self.running = True\n",
    "            t = Thread(target=self.time_thread)\n",
    "            t.start()\n",
    "\n",
    "        # Check if entries are correct or not\n",
    "        if not self.sample_label.cget('text').startswith(self.input_entry.get()):\n",
    "            self.input_entry.config(fg=\"red\")\n",
    "        else:\n",
    "            self.input_entry.config(fg=\"black\")\n",
    "\n",
    "        if self.input_entry.get() == self.sample_label.cget(\"text\"):\n",
    "            self.running = False\n",
    "            self.input_entry.config(fg=\"green\")\n",
    "\n",
    "    def time_thread(self):\n",
    "        while self.running:\n",
    "            sleep(0.1)\n",
    "            self.counter += 0.1\n",
    "\n",
    "            cps = len(self.input_entry.get()) / self.counter\n",
    "            cpm = cps * 60\n",
    "\n",
    "            wps = len(self.input_entry.get().split(\" \")) / self.counter\n",
    "            wpm = wps * 60\n",
    "            self.speed_label.config(text=f\"Speed: \\n{cps:.2f} CPS\\n{cpm:.2f} CPM\\n{wps:.2f} WPS\\n{wpm:.2f} WPM\")\n",
    "\n",
    "    # Reset the application when the reset button is pressed\n",
    "    def reset(self):\n",
    "        self.running = False\n",
    "        self.counter = 0\n",
    "        self.speed_label.config(text=\"Speed: \\n0.00 CPS\\n0.00 CPM\\n0.00 WPS\\n0.00 WPM\")\n",
    "        self.sample_label.config(text=choice(self.texts))\n",
    "        self.input_entry.delete(0, tk.END)\n",
    "        self.input_entry.config(fg=\"black\")  # Reset text color\n",
    "\n",
    "TypeSpeed()\n"
   ]
  }
 ],
 "metadata": {
  "kernelspec": {
   "display_name": "Python 3",
   "language": "python",
   "name": "python3"
  },
  "language_info": {
   "codemirror_mode": {
    "name": "ipython",
    "version": 3
   },
   "file_extension": ".py",
   "mimetype": "text/x-python",
   "name": "python",
   "nbconvert_exporter": "python",
   "pygments_lexer": "ipython3",
   "version": "3.9.6"
  },
  "orig_nbformat": 4
 },
 "nbformat": 4,
 "nbformat_minor": 2
}
